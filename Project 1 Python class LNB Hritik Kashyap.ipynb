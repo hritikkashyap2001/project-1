{
 "cells": [
  {
   "cell_type": "code",
   "execution_count": null,
   "id": "9dbd8903",
   "metadata": {},
   "outputs": [
    {
     "name": "stdout",
     "output_type": "stream",
     "text": [
      "\n",
      "Student Project Form\n",
      "1. Accept Student\n",
      "2. Display Students\n",
      "3. Search Student\n",
      "4. Delete Student\n",
      "5. Exit\n"
     ]
    }
   ],
   "source": [
    "def accept_student(student_id, student_name, student_marks, student_database):\n",
    "    student_database[student_id] = [student_name, student_marks]\n",
    "    print(f\"Student with ID {student_id} added successfully.\")\n",
    "\n",
    "def display_students(student_database):\n",
    "    if not student_database:\n",
    "        print(\"No student records found.\")\n",
    "    else:\n",
    "        print(\"Student Details:\")\n",
    "        for student_id, details in student_database.items():\n",
    "            print(f\"ID: {student_id}, Name: {details[0]}, Marks: {details[1]}\")\n",
    "\n",
    "def search_student(student_id, student_database):\n",
    "    if student_id in student_database:\n",
    "        print(\"Student Found:\")\n",
    "        print(f\"ID: {student_id}, Name: {student_database[student_id][0]}, Marks: {student_database[student_id][1]}\")\n",
    "    else:\n",
    "        print(f\"Student with ID {student_id} not found.\")\n",
    "\n",
    "def delete_student(student_id, student_database):\n",
    "    if student_id in student_database:\n",
    "        del student_database[student_id]\n",
    "        print(f\"Student with ID {student_id} deleted successfully.\")\n",
    "    else:\n",
    "        print(f\"Student with ID {student_id} not found.\")\n",
    "\n",
    "def exit_form():\n",
    "    print(\"Exiting the form.\")\n",
    "    quit()\n",
    "\n",
    "def main():\n",
    "    student_database = {}\n",
    "\n",
    "    while True:\n",
    "        print(\"\\nStudent Project Form\")\n",
    "        print(\"1. Accept Student\")\n",
    "        print(\"2. Display Students\")\n",
    "        print(\"3. Search Student\")\n",
    "        print(\"4. Delete Student\")\n",
    "        print(\"5. Exit\")\n",
    "        \n",
    "        choice = int(input(\"Enter your choice (1/2/3/4/5): \"))\n",
    "\n",
    "        if choice == 1:\n",
    "            student_id = input(\"Enter Student ID: \")\n",
    "            student_name = input(\"Enter Student Name: \")\n",
    "            student_marks = float(input(\"Enter Student Marks: \"))\n",
    "            accept_student(student_id, student_name, student_marks, student_database)\n",
    "        elif choice == 2:\n",
    "            display_students(student_database)\n",
    "        elif choice == 3:\n",
    "            student_id = input(\"Enter Student ID to search: \")\n",
    "            search_student(student_id, student_database)\n",
    "        elif choice == 4:\n",
    "            student_id = input(\"Enter Student ID to delete: \")\n",
    "            delete_student(student_id, student_database)\n",
    "        elif choice == 5:\n",
    "            exit_form()\n",
    "            break\n",
    "        else:\n",
    "            print(\"Invalid choice. Please try again.\")\n",
    "\n",
    "if __name__ == \"__main__\":\n",
    "    main()\n"
   ]
  }
 ],
 "metadata": {
  "kernelspec": {
   "display_name": "Python 3 (ipykernel)",
   "language": "python",
   "name": "python3"
  },
  "language_info": {
   "codemirror_mode": {
    "name": "ipython",
    "version": 3
   },
   "file_extension": ".py",
   "mimetype": "text/x-python",
   "name": "python",
   "nbconvert_exporter": "python",
   "pygments_lexer": "ipython3",
   "version": "3.10.9"
  }
 },
 "nbformat": 4,
 "nbformat_minor": 5
}
